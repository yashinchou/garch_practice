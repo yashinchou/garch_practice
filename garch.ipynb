{
 "cells": [
  {
   "cell_type": "code",
   "execution_count": 1,
   "id": "d8915bdb",
   "metadata": {},
   "outputs": [],
   "source": [
    "import numpy as np\n",
    "import pandas as pd\n",
    "import matplotlib.pylab as plt\n",
    "import statsmodels.api as sm"
   ]
  },
  {
   "cell_type": "code",
   "execution_count": 3,
   "id": "48f30c0d",
   "metadata": {},
   "outputs": [
    {
     "data": {
      "text/plain": [
       "'\\n模型介紹\\nGARCH模型稱為廣義ARCH模型，是ARCH模型的擴展，由Bollerslev(1986)發展出來的。它是ARCH模型的推廣。GARCH(p,0)模型，相當於ARCH(p)模型。\\n\\n參考網頁：\\n1) https://zhuanlan.zhihu.com/p/348107698\\n2) https://blog.nex3z.com/2019/07/24/time-series-q-statistic/\\n3) https://blog.csdn.net/duxu24/article/details/52079901\\n'"
      ]
     },
     "execution_count": 3,
     "metadata": {},
     "output_type": "execute_result"
    }
   ],
   "source": [
    "\"\"\"\n",
    "模型介紹\n",
    "GARCH模型稱為廣義ARCH模型，是ARCH模型的擴展，由Bollerslev(1986)發展出來的。它是ARCH模型的推廣。GARCH(p,0)模型，相當於ARCH(p)模型。\n",
    "\n",
    "參考網頁：\n",
    "1) https://zhuanlan.zhihu.com/p/348107698\n",
    "2) https://blog.nex3z.com/2019/07/24/time-series-q-statistic/\n",
    "3) https://blog.csdn.net/duxu24/article/details/52079901\n",
    "\"\"\""
   ]
  },
  {
   "cell_type": "code",
   "execution_count": 4,
   "id": "8ae41b04",
   "metadata": {},
   "outputs": [
    {
     "data": {
      "text/html": [
       "<div>\n",
       "<style scoped>\n",
       "    .dataframe tbody tr th:only-of-type {\n",
       "        vertical-align: middle;\n",
       "    }\n",
       "\n",
       "    .dataframe tbody tr th {\n",
       "        vertical-align: top;\n",
       "    }\n",
       "\n",
       "    .dataframe thead th {\n",
       "        text-align: right;\n",
       "    }\n",
       "</style>\n",
       "<table border=\"1\" class=\"dataframe\">\n",
       "  <thead>\n",
       "    <tr style=\"text-align: right;\">\n",
       "      <th></th>\n",
       "      <th>成交股數</th>\n",
       "      <th>成交筆數</th>\n",
       "      <th>成交金額</th>\n",
       "      <th>開盤價</th>\n",
       "      <th>最高價</th>\n",
       "      <th>最低價</th>\n",
       "      <th>收盤價</th>\n",
       "      <th>漲跌價差</th>\n",
       "      <th>最後揭示買價</th>\n",
       "      <th>最後揭示買量</th>\n",
       "      <th>最後揭示賣價</th>\n",
       "      <th>最後揭示賣量</th>\n",
       "      <th>本益比</th>\n",
       "    </tr>\n",
       "    <tr>\n",
       "      <th>證券代號</th>\n",
       "      <th></th>\n",
       "      <th></th>\n",
       "      <th></th>\n",
       "      <th></th>\n",
       "      <th></th>\n",
       "      <th></th>\n",
       "      <th></th>\n",
       "      <th></th>\n",
       "      <th></th>\n",
       "      <th></th>\n",
       "      <th></th>\n",
       "      <th></th>\n",
       "      <th></th>\n",
       "    </tr>\n",
       "  </thead>\n",
       "  <tbody>\n",
       "    <tr>\n",
       "      <th>0050</th>\n",
       "      <td>15367279</td>\n",
       "      <td>25468</td>\n",
       "      <td>2032841606</td>\n",
       "      <td>132.15</td>\n",
       "      <td>132.85</td>\n",
       "      <td>131.60</td>\n",
       "      <td>132.55</td>\n",
       "      <td>0.10</td>\n",
       "      <td>132.55</td>\n",
       "      <td>7</td>\n",
       "      <td>132.60</td>\n",
       "      <td>44</td>\n",
       "      <td>0.00</td>\n",
       "    </tr>\n",
       "    <tr>\n",
       "      <th>0051</th>\n",
       "      <td>41710</td>\n",
       "      <td>98</td>\n",
       "      <td>2444469</td>\n",
       "      <td>58.50</td>\n",
       "      <td>58.85</td>\n",
       "      <td>58.35</td>\n",
       "      <td>58.40</td>\n",
       "      <td>0.20</td>\n",
       "      <td>58.40</td>\n",
       "      <td>38</td>\n",
       "      <td>58.55</td>\n",
       "      <td>35</td>\n",
       "      <td>0.00</td>\n",
       "    </tr>\n",
       "    <tr>\n",
       "      <th>0052</th>\n",
       "      <td>974237</td>\n",
       "      <td>1369</td>\n",
       "      <td>116419243</td>\n",
       "      <td>119.00</td>\n",
       "      <td>120.30</td>\n",
       "      <td>118.25</td>\n",
       "      <td>119.55</td>\n",
       "      <td>0.10</td>\n",
       "      <td>119.50</td>\n",
       "      <td>1</td>\n",
       "      <td>119.55</td>\n",
       "      <td>106</td>\n",
       "      <td>0.00</td>\n",
       "    </tr>\n",
       "    <tr>\n",
       "      <th>0053</th>\n",
       "      <td>8219</td>\n",
       "      <td>13</td>\n",
       "      <td>513984</td>\n",
       "      <td>62.70</td>\n",
       "      <td>62.70</td>\n",
       "      <td>62.00</td>\n",
       "      <td>62.50</td>\n",
       "      <td>0.25</td>\n",
       "      <td>62.05</td>\n",
       "      <td>1</td>\n",
       "      <td>62.65</td>\n",
       "      <td>12</td>\n",
       "      <td>0.00</td>\n",
       "    </tr>\n",
       "    <tr>\n",
       "      <th>0054</th>\n",
       "      <td>4085</td>\n",
       "      <td>7</td>\n",
       "      <td>121359</td>\n",
       "      <td>29.70</td>\n",
       "      <td>29.71</td>\n",
       "      <td>29.69</td>\n",
       "      <td>29.71</td>\n",
       "      <td>0.20</td>\n",
       "      <td>29.44</td>\n",
       "      <td>8</td>\n",
       "      <td>29.67</td>\n",
       "      <td>5</td>\n",
       "      <td>0.00</td>\n",
       "    </tr>\n",
       "    <tr>\n",
       "      <th>...</th>\n",
       "      <td>...</td>\n",
       "      <td>...</td>\n",
       "      <td>...</td>\n",
       "      <td>...</td>\n",
       "      <td>...</td>\n",
       "      <td>...</td>\n",
       "      <td>...</td>\n",
       "      <td>...</td>\n",
       "      <td>...</td>\n",
       "      <td>...</td>\n",
       "      <td>...</td>\n",
       "      <td>...</td>\n",
       "      <td>...</td>\n",
       "    </tr>\n",
       "    <tr>\n",
       "      <th>9944</th>\n",
       "      <td>109928</td>\n",
       "      <td>109</td>\n",
       "      <td>2310097</td>\n",
       "      <td>21.10</td>\n",
       "      <td>21.15</td>\n",
       "      <td>20.65</td>\n",
       "      <td>21.00</td>\n",
       "      <td>0.10</td>\n",
       "      <td>20.80</td>\n",
       "      <td>1</td>\n",
       "      <td>21.05</td>\n",
       "      <td>2</td>\n",
       "      <td>4.35</td>\n",
       "    </tr>\n",
       "    <tr>\n",
       "      <th>9945</th>\n",
       "      <td>17344629</td>\n",
       "      <td>13016</td>\n",
       "      <td>1290439757</td>\n",
       "      <td>76.00</td>\n",
       "      <td>77.00</td>\n",
       "      <td>73.00</td>\n",
       "      <td>73.20</td>\n",
       "      <td>4.60</td>\n",
       "      <td>73.20</td>\n",
       "      <td>100</td>\n",
       "      <td>73.30</td>\n",
       "      <td>18</td>\n",
       "      <td>9.46</td>\n",
       "    </tr>\n",
       "    <tr>\n",
       "      <th>9946</th>\n",
       "      <td>39461</td>\n",
       "      <td>55</td>\n",
       "      <td>524147</td>\n",
       "      <td>13.15</td>\n",
       "      <td>13.35</td>\n",
       "      <td>13.15</td>\n",
       "      <td>13.35</td>\n",
       "      <td>0.00</td>\n",
       "      <td>13.20</td>\n",
       "      <td>30</td>\n",
       "      <td>13.35</td>\n",
       "      <td>1</td>\n",
       "      <td>19.63</td>\n",
       "    </tr>\n",
       "    <tr>\n",
       "      <th>9955</th>\n",
       "      <td>6394816</td>\n",
       "      <td>3574</td>\n",
       "      <td>212725981</td>\n",
       "      <td>33.40</td>\n",
       "      <td>34.50</td>\n",
       "      <td>32.50</td>\n",
       "      <td>32.70</td>\n",
       "      <td>0.30</td>\n",
       "      <td>32.70</td>\n",
       "      <td>45</td>\n",
       "      <td>32.75</td>\n",
       "      <td>56</td>\n",
       "      <td>0.00</td>\n",
       "    </tr>\n",
       "    <tr>\n",
       "      <th>9958</th>\n",
       "      <td>6176720</td>\n",
       "      <td>3964</td>\n",
       "      <td>726158501</td>\n",
       "      <td>113.50</td>\n",
       "      <td>119.00</td>\n",
       "      <td>113.50</td>\n",
       "      <td>118.50</td>\n",
       "      <td>3.50</td>\n",
       "      <td>118.50</td>\n",
       "      <td>5</td>\n",
       "      <td>119.00</td>\n",
       "      <td>412</td>\n",
       "      <td>21.78</td>\n",
       "    </tr>\n",
       "  </tbody>\n",
       "</table>\n",
       "<p>1161 rows × 13 columns</p>\n",
       "</div>"
      ],
      "text/plain": [
       "          成交股數   成交筆數        成交金額     開盤價     最高價     最低價     收盤價  漲跌價差  \\\n",
       "證券代號                                                                      \n",
       "0050  15367279  25468  2032841606  132.15  132.85  131.60  132.55  0.10   \n",
       "0051     41710     98     2444469   58.50   58.85   58.35   58.40  0.20   \n",
       "0052    974237   1369   116419243  119.00  120.30  118.25  119.55  0.10   \n",
       "0053      8219     13      513984   62.70   62.70   62.00   62.50  0.25   \n",
       "0054      4085      7      121359   29.70   29.71   29.69   29.71  0.20   \n",
       "...        ...    ...         ...     ...     ...     ...     ...   ...   \n",
       "9944    109928    109     2310097   21.10   21.15   20.65   21.00  0.10   \n",
       "9945  17344629  13016  1290439757   76.00   77.00   73.00   73.20  4.60   \n",
       "9946     39461     55      524147   13.15   13.35   13.15   13.35  0.00   \n",
       "9955   6394816   3574   212725981   33.40   34.50   32.50   32.70  0.30   \n",
       "9958   6176720   3964   726158501  113.50  119.00  113.50  118.50  3.50   \n",
       "\n",
       "      最後揭示買價  最後揭示買量  最後揭示賣價  最後揭示賣量    本益比  \n",
       "證券代號                                         \n",
       "0050  132.55       7  132.60      44   0.00  \n",
       "0051   58.40      38   58.55      35   0.00  \n",
       "0052  119.50       1  119.55     106   0.00  \n",
       "0053   62.05       1   62.65      12   0.00  \n",
       "0054   29.44       8   29.67       5   0.00  \n",
       "...      ...     ...     ...     ...    ...  \n",
       "9944   20.80       1   21.05       2   4.35  \n",
       "9945   73.20     100   73.30      18   9.46  \n",
       "9946   13.20      30   13.35       1  19.63  \n",
       "9955   32.70      45   32.75      56   0.00  \n",
       "9958  118.50       5  119.00     412  21.78  \n",
       "\n",
       "[1161 rows x 13 columns]"
      ]
     },
     "execution_count": 4,
     "metadata": {},
     "output_type": "execute_result"
    }
   ],
   "source": [
    "import pandas as pd\n",
    "import requests\n",
    "import io\n",
    "\n",
    "# 將json改為csv\n",
    "\n",
    "url = 'https://www.twse.com.tw/exchangeReport/MI_INDEX?response=csv&date=20220412&type=ALLBUT0999&_=1649743235999'\n",
    "headers = {'User-Agent': 'Mozilla/5.0 (Windows NT 10.0; Win64; x64) AppleWebKit/111.25 (KHTML, like Gecko) Chrome/99.0.2345.81 Safari/123.36'}\n",
    "\n",
    "res = requests.get(url,headers=headers)\n",
    "\n",
    "# 去除指數價格\n",
    "lines = [l for l in res.text.split('\\n') if len(l.split(',\"'))>=10]\n",
    "# 將list轉為txt方便用csv讀取\n",
    "df = pd.read_csv(io.StringIO(','.join(lines)))\n",
    "# 將不必要的符號去除\n",
    "df = df.applymap(lambda s:(str(s).replace('=','').replace(',','').replace('\"',''))).set_index('證券代號')\n",
    "# 將數字轉為數值型態\n",
    "df = df.applymap(lambda s:pd.to_numeric(str(s),errors='coerce')).dropna(how='all',axis=1)\n",
    "df"
   ]
  },
  {
   "cell_type": "code",
   "execution_count": 5,
   "id": "0556b60a",
   "metadata": {},
   "outputs": [
    {
     "name": "stdout",
     "output_type": "stream",
     "text": [
      "Requirement already satisfied: twstock in c:\\users\\11065004\\anaconda3\\lib\\site-packages (1.3.1)\n",
      "Requirement already satisfied: requests in c:\\users\\11065004\\anaconda3\\lib\\site-packages (from twstock) (2.26.0)\n",
      "Requirement already satisfied: idna<4,>=2.5 in c:\\users\\11065004\\anaconda3\\lib\\site-packages (from requests->twstock) (3.2)\n",
      "Requirement already satisfied: certifi>=2017.4.17 in c:\\users\\11065004\\anaconda3\\lib\\site-packages (from requests->twstock) (2021.10.8)\n",
      "Requirement already satisfied: charset-normalizer~=2.0.0 in c:\\users\\11065004\\anaconda3\\lib\\site-packages (from requests->twstock) (2.0.4)\n",
      "Requirement already satisfied: urllib3<1.27,>=1.21.1 in c:\\users\\11065004\\anaconda3\\lib\\site-packages (from requests->twstock) (1.26.7)\n",
      "Note: you may need to restart the kernel to use updated packages.\n"
     ]
    }
   ],
   "source": [
    "pip install twstock"
   ]
  },
  {
   "cell_type": "code",
   "execution_count": 6,
   "id": "13e1a723",
   "metadata": {},
   "outputs": [],
   "source": [
    "import twstock\n",
    "import pandas as pd\n",
    "# 導入twstock及pandas模組，pandas模組縮寫為pd\n",
    "\n",
    "target_stock = '0050'  #股票代號變數\n",
    "stock = twstock.Stock(target_stock)  #告訴twstock我們要查詢的股票\n",
    "target_price = stock.fetch_from(2020, 5)  #取用2020/05至今每天的交易資料\n",
    "\n",
    "name_attribute = [ 'Date','Capacity', 'Turnover', 'Open', 'High', 'Low', 'Close', 'Change',\n",
    "    'Transcation'\n",
    "]  #幫收集到的資料設定表頭\n",
    "\n",
    "df = pd.DataFrame(columns=name_attribute, data=target_price)\n",
    "#將twstock抓到的清單轉成Data Frame格式的資料表\n",
    "\n",
    "#filename = f'./data/{target_stock}.csv'\n",
    "#指定Data Frame轉存csv檔案的檔名與路徑\n",
    "\n",
    "#df.to_csv(filename)\n",
    "#將Data Frame轉存為csv檔案"
   ]
  },
  {
   "cell_type": "code",
   "execution_count": 7,
   "id": "3f1d5279",
   "metadata": {},
   "outputs": [
    {
     "data": {
      "text/html": [
       "<div>\n",
       "<style scoped>\n",
       "    .dataframe tbody tr th:only-of-type {\n",
       "        vertical-align: middle;\n",
       "    }\n",
       "\n",
       "    .dataframe tbody tr th {\n",
       "        vertical-align: top;\n",
       "    }\n",
       "\n",
       "    .dataframe thead th {\n",
       "        text-align: right;\n",
       "    }\n",
       "</style>\n",
       "<table border=\"1\" class=\"dataframe\">\n",
       "  <thead>\n",
       "    <tr style=\"text-align: right;\">\n",
       "      <th></th>\n",
       "      <th>Date</th>\n",
       "      <th>Capacity</th>\n",
       "      <th>Turnover</th>\n",
       "      <th>Open</th>\n",
       "      <th>High</th>\n",
       "      <th>Low</th>\n",
       "      <th>Close</th>\n",
       "      <th>Change</th>\n",
       "      <th>Transcation</th>\n",
       "    </tr>\n",
       "  </thead>\n",
       "  <tbody>\n",
       "    <tr>\n",
       "      <th>0</th>\n",
       "      <td>2020-05-04</td>\n",
       "      <td>15648380</td>\n",
       "      <td>1296408090</td>\n",
       "      <td>82.4</td>\n",
       "      <td>83.30</td>\n",
       "      <td>82.20</td>\n",
       "      <td>83.00</td>\n",
       "      <td>-2.50</td>\n",
       "      <td>8848</td>\n",
       "    </tr>\n",
       "    <tr>\n",
       "      <th>1</th>\n",
       "      <td>2020-05-05</td>\n",
       "      <td>7810636</td>\n",
       "      <td>651512279</td>\n",
       "      <td>83.5</td>\n",
       "      <td>83.80</td>\n",
       "      <td>83.00</td>\n",
       "      <td>83.40</td>\n",
       "      <td>0.40</td>\n",
       "      <td>3986</td>\n",
       "    </tr>\n",
       "    <tr>\n",
       "      <th>2</th>\n",
       "      <td>2020-05-06</td>\n",
       "      <td>6142593</td>\n",
       "      <td>511218824</td>\n",
       "      <td>83.3</td>\n",
       "      <td>83.75</td>\n",
       "      <td>82.60</td>\n",
       "      <td>83.50</td>\n",
       "      <td>0.10</td>\n",
       "      <td>3610</td>\n",
       "    </tr>\n",
       "    <tr>\n",
       "      <th>3</th>\n",
       "      <td>2020-05-07</td>\n",
       "      <td>6140995</td>\n",
       "      <td>514715030</td>\n",
       "      <td>83.5</td>\n",
       "      <td>84.15</td>\n",
       "      <td>83.30</td>\n",
       "      <td>83.85</td>\n",
       "      <td>0.35</td>\n",
       "      <td>3429</td>\n",
       "    </tr>\n",
       "    <tr>\n",
       "      <th>4</th>\n",
       "      <td>2020-05-08</td>\n",
       "      <td>6034013</td>\n",
       "      <td>508981564</td>\n",
       "      <td>84.6</td>\n",
       "      <td>84.75</td>\n",
       "      <td>84.00</td>\n",
       "      <td>84.35</td>\n",
       "      <td>0.50</td>\n",
       "      <td>3530</td>\n",
       "    </tr>\n",
       "    <tr>\n",
       "      <th>...</th>\n",
       "      <td>...</td>\n",
       "      <td>...</td>\n",
       "      <td>...</td>\n",
       "      <td>...</td>\n",
       "      <td>...</td>\n",
       "      <td>...</td>\n",
       "      <td>...</td>\n",
       "      <td>...</td>\n",
       "      <td>...</td>\n",
       "    </tr>\n",
       "    <tr>\n",
       "      <th>837</th>\n",
       "      <td>2023-10-04</td>\n",
       "      <td>12322148</td>\n",
       "      <td>1500309693</td>\n",
       "      <td>122.1</td>\n",
       "      <td>122.20</td>\n",
       "      <td>121.35</td>\n",
       "      <td>121.90</td>\n",
       "      <td>-1.60</td>\n",
       "      <td>23810</td>\n",
       "    </tr>\n",
       "    <tr>\n",
       "      <th>838</th>\n",
       "      <td>2023-10-05</td>\n",
       "      <td>4410768</td>\n",
       "      <td>543373343</td>\n",
       "      <td>122.4</td>\n",
       "      <td>123.65</td>\n",
       "      <td>122.40</td>\n",
       "      <td>123.65</td>\n",
       "      <td>1.75</td>\n",
       "      <td>8646</td>\n",
       "    </tr>\n",
       "    <tr>\n",
       "      <th>839</th>\n",
       "      <td>2023-10-06</td>\n",
       "      <td>5059285</td>\n",
       "      <td>627964218</td>\n",
       "      <td>123.8</td>\n",
       "      <td>124.30</td>\n",
       "      <td>123.80</td>\n",
       "      <td>124.10</td>\n",
       "      <td>0.45</td>\n",
       "      <td>6632</td>\n",
       "    </tr>\n",
       "    <tr>\n",
       "      <th>840</th>\n",
       "      <td>2023-10-11</td>\n",
       "      <td>14193410</td>\n",
       "      <td>1790523768</td>\n",
       "      <td>125.9</td>\n",
       "      <td>126.40</td>\n",
       "      <td>125.85</td>\n",
       "      <td>126.25</td>\n",
       "      <td>2.15</td>\n",
       "      <td>15854</td>\n",
       "    </tr>\n",
       "    <tr>\n",
       "      <th>841</th>\n",
       "      <td>2023-10-12</td>\n",
       "      <td>14896995</td>\n",
       "      <td>1891391381</td>\n",
       "      <td>126.5</td>\n",
       "      <td>127.35</td>\n",
       "      <td>126.30</td>\n",
       "      <td>127.30</td>\n",
       "      <td>1.05</td>\n",
       "      <td>12866</td>\n",
       "    </tr>\n",
       "  </tbody>\n",
       "</table>\n",
       "<p>842 rows × 9 columns</p>\n",
       "</div>"
      ],
      "text/plain": [
       "          Date  Capacity    Turnover   Open    High     Low   Close  Change  \\\n",
       "0   2020-05-04  15648380  1296408090   82.4   83.30   82.20   83.00   -2.50   \n",
       "1   2020-05-05   7810636   651512279   83.5   83.80   83.00   83.40    0.40   \n",
       "2   2020-05-06   6142593   511218824   83.3   83.75   82.60   83.50    0.10   \n",
       "3   2020-05-07   6140995   514715030   83.5   84.15   83.30   83.85    0.35   \n",
       "4   2020-05-08   6034013   508981564   84.6   84.75   84.00   84.35    0.50   \n",
       "..         ...       ...         ...    ...     ...     ...     ...     ...   \n",
       "837 2023-10-04  12322148  1500309693  122.1  122.20  121.35  121.90   -1.60   \n",
       "838 2023-10-05   4410768   543373343  122.4  123.65  122.40  123.65    1.75   \n",
       "839 2023-10-06   5059285   627964218  123.8  124.30  123.80  124.10    0.45   \n",
       "840 2023-10-11  14193410  1790523768  125.9  126.40  125.85  126.25    2.15   \n",
       "841 2023-10-12  14896995  1891391381  126.5  127.35  126.30  127.30    1.05   \n",
       "\n",
       "     Transcation  \n",
       "0           8848  \n",
       "1           3986  \n",
       "2           3610  \n",
       "3           3429  \n",
       "4           3530  \n",
       "..           ...  \n",
       "837        23810  \n",
       "838         8646  \n",
       "839         6632  \n",
       "840        15854  \n",
       "841        12866  \n",
       "\n",
       "[842 rows x 9 columns]"
      ]
     },
     "execution_count": 7,
     "metadata": {},
     "output_type": "execute_result"
    }
   ],
   "source": [
    "df"
   ]
  },
  {
   "cell_type": "code",
   "execution_count": 8,
   "id": "b753a45c",
   "metadata": {},
   "outputs": [
    {
     "data": {
      "text/plain": [
       "0   2020-05-04\n",
       "1   2020-05-05\n",
       "2   2020-05-06\n",
       "3   2020-05-07\n",
       "4   2020-05-08\n",
       "Name: Date, dtype: datetime64[ns]"
      ]
     },
     "execution_count": 8,
     "metadata": {},
     "output_type": "execute_result"
    }
   ],
   "source": [
    "from datetime import datetime #datetime套件\n",
    "\n",
    "df.Date = pd.to_datetime(df.Date)\n",
    "df['Date'].head()"
   ]
  },
  {
   "cell_type": "code",
   "execution_count": 9,
   "id": "c99d719b",
   "metadata": {},
   "outputs": [
    {
     "data": {
      "text/html": [
       "<div>\n",
       "<style scoped>\n",
       "    .dataframe tbody tr th:only-of-type {\n",
       "        vertical-align: middle;\n",
       "    }\n",
       "\n",
       "    .dataframe tbody tr th {\n",
       "        vertical-align: top;\n",
       "    }\n",
       "\n",
       "    .dataframe thead th {\n",
       "        text-align: right;\n",
       "    }\n",
       "</style>\n",
       "<table border=\"1\" class=\"dataframe\">\n",
       "  <thead>\n",
       "    <tr style=\"text-align: right;\">\n",
       "      <th></th>\n",
       "      <th>Capacity</th>\n",
       "      <th>Turnover</th>\n",
       "      <th>Open</th>\n",
       "      <th>High</th>\n",
       "      <th>Low</th>\n",
       "      <th>Close</th>\n",
       "      <th>Change</th>\n",
       "      <th>Transcation</th>\n",
       "    </tr>\n",
       "    <tr>\n",
       "      <th>Date</th>\n",
       "      <th></th>\n",
       "      <th></th>\n",
       "      <th></th>\n",
       "      <th></th>\n",
       "      <th></th>\n",
       "      <th></th>\n",
       "      <th></th>\n",
       "      <th></th>\n",
       "    </tr>\n",
       "  </thead>\n",
       "  <tbody>\n",
       "    <tr>\n",
       "      <th>2020-05-04</th>\n",
       "      <td>15648380</td>\n",
       "      <td>1296408090</td>\n",
       "      <td>82.4</td>\n",
       "      <td>83.30</td>\n",
       "      <td>82.2</td>\n",
       "      <td>83.00</td>\n",
       "      <td>-2.50</td>\n",
       "      <td>8848</td>\n",
       "    </tr>\n",
       "    <tr>\n",
       "      <th>2020-05-05</th>\n",
       "      <td>7810636</td>\n",
       "      <td>651512279</td>\n",
       "      <td>83.5</td>\n",
       "      <td>83.80</td>\n",
       "      <td>83.0</td>\n",
       "      <td>83.40</td>\n",
       "      <td>0.40</td>\n",
       "      <td>3986</td>\n",
       "    </tr>\n",
       "    <tr>\n",
       "      <th>2020-05-06</th>\n",
       "      <td>6142593</td>\n",
       "      <td>511218824</td>\n",
       "      <td>83.3</td>\n",
       "      <td>83.75</td>\n",
       "      <td>82.6</td>\n",
       "      <td>83.50</td>\n",
       "      <td>0.10</td>\n",
       "      <td>3610</td>\n",
       "    </tr>\n",
       "    <tr>\n",
       "      <th>2020-05-07</th>\n",
       "      <td>6140995</td>\n",
       "      <td>514715030</td>\n",
       "      <td>83.5</td>\n",
       "      <td>84.15</td>\n",
       "      <td>83.3</td>\n",
       "      <td>83.85</td>\n",
       "      <td>0.35</td>\n",
       "      <td>3429</td>\n",
       "    </tr>\n",
       "    <tr>\n",
       "      <th>2020-05-08</th>\n",
       "      <td>6034013</td>\n",
       "      <td>508981564</td>\n",
       "      <td>84.6</td>\n",
       "      <td>84.75</td>\n",
       "      <td>84.0</td>\n",
       "      <td>84.35</td>\n",
       "      <td>0.50</td>\n",
       "      <td>3530</td>\n",
       "    </tr>\n",
       "  </tbody>\n",
       "</table>\n",
       "</div>"
      ],
      "text/plain": [
       "            Capacity    Turnover  Open   High   Low  Close  Change  \\\n",
       "Date                                                                 \n",
       "2020-05-04  15648380  1296408090  82.4  83.30  82.2  83.00   -2.50   \n",
       "2020-05-05   7810636   651512279  83.5  83.80  83.0  83.40    0.40   \n",
       "2020-05-06   6142593   511218824  83.3  83.75  82.6  83.50    0.10   \n",
       "2020-05-07   6140995   514715030  83.5  84.15  83.3  83.85    0.35   \n",
       "2020-05-08   6034013   508981564  84.6  84.75  84.0  84.35    0.50   \n",
       "\n",
       "            Transcation  \n",
       "Date                     \n",
       "2020-05-04         8848  \n",
       "2020-05-05         3986  \n",
       "2020-05-06         3610  \n",
       "2020-05-07         3429  \n",
       "2020-05-08         3530  "
      ]
     },
     "execution_count": 9,
     "metadata": {},
     "output_type": "execute_result"
    }
   ],
   "source": [
    "df = df.set_index(\"Date\")\n",
    "df.head()"
   ]
  },
  {
   "cell_type": "code",
   "execution_count": 10,
   "id": "b781d6fe",
   "metadata": {},
   "outputs": [
    {
     "data": {
      "text/plain": [
       "Date\n",
       "2020-05-04     82.4\n",
       "2020-05-05     83.5\n",
       "2020-05-06     83.3\n",
       "2020-05-07     83.5\n",
       "2020-05-08     84.6\n",
       "              ...  \n",
       "2023-10-04    122.1\n",
       "2023-10-05    122.4\n",
       "2023-10-06    123.8\n",
       "2023-10-11    125.9\n",
       "2023-10-12    126.5\n",
       "Name: Open, Length: 842, dtype: float64"
      ]
     },
     "execution_count": 10,
     "metadata": {},
     "output_type": "execute_result"
    }
   ],
   "source": [
    "from datetime import datetime #导入datetime模块\n",
    "df.index=pd.to_datetime(df.index) #转换数据格式\n",
    "ts=df['Open']\n",
    "ts"
   ]
  },
  {
   "cell_type": "code",
   "execution_count": 11,
   "id": "16f05200",
   "metadata": {},
   "outputs": [],
   "source": [
    "import statsmodels.api as sm"
   ]
  },
  {
   "cell_type": "code",
   "execution_count": 12,
   "id": "ef70b2cc",
   "metadata": {},
   "outputs": [
    {
     "data": {
      "text/plain": [
       "Text(0.5, 1.0, '0050開盤價')"
      ]
     },
     "execution_count": 12,
     "metadata": {},
     "output_type": "execute_result"
    },
    {
     "data": {
      "image/png": "[encoded data removed]",
      "text/plain": [
       "<Figure size 432x288 with 1 Axes>"
      ]
     },
     "metadata": {
      "needs_background": "light"
     },
     "output_type": "display_data"
    }
   ],
   "source": [
    "plt.rcParams['font.sans-serif']=['SimSun']\n",
    "plt.rcParams['axes.unicode_minus']=False #时序圖繪製\n",
    "ts.plot()\n",
    "plt.xticks(rotation=45)\n",
    "plt.xlabel('日期') #横、縱坐標以及標題命名\n",
    "plt.ylabel('開盤價')\n",
    "plt.title('0050開盤價',loc='center')"
   ]
  },
  {
   "cell_type": "code",
   "execution_count": 13,
   "id": "33e5d0a4",
   "metadata": {},
   "outputs": [
    {
     "name": "stdout",
     "output_type": "stream",
     "text": [
      "(-2.6187946949846532, 0.08917466858010903, 0, 841, {'1%': -3.4381494909387555, '5%': -2.864982795593248, '10%': -2.568603222439172}, 2853.14484148544)\n"
     ]
    }
   ],
   "source": [
    "from statsmodels.tsa.stattools import adfuller #ADF单位根检验\n",
    "result = adfuller(ts) #不能拒绝原假设，即原序列存在单位根\n",
    "print(result)"
   ]
  },
  {
   "cell_type": "code",
   "execution_count": 14,
   "id": "5242ef05",
   "metadata": {},
   "outputs": [
    {
     "name": "stdout",
     "output_type": "stream",
     "text": [
      "(-28.913093415055215, 0.0, 0, 840, {'1%': -3.4381588046529123, '5%': -2.8649869014550267, '10%': -2.5686054095804987}, 2857.4025509930975)\n"
     ]
    }
   ],
   "source": [
    "ts1= ts.diff().dropna() #一阶差分再进行ADF检验\n",
    "result = adfuller(ts1)\n",
    "print(result)"
   ]
  },
  {
   "cell_type": "code",
   "execution_count": 15,
   "id": "cf7fd66c",
   "metadata": {},
   "outputs": [
    {
     "data": {
      "image/png": "[encoded data removed]",
      "text/plain": [
       "<Figure size 432x288 with 1 Axes>"
      ]
     },
     "metadata": {
      "needs_background": "light"
     },
     "output_type": "display_data"
    }
   ],
   "source": [
    "plt.rcParams['font.sans-serif']=['SimSun']\n",
    "plt.rcParams['axes.unicode_minus']=False\n",
    "plt.xticks(rotation=45) #坐标角度旋转\n",
    "plt.xlabel('日期') #横、纵坐标以及标题命名\n",
    "plt.ylabel('開盤價')\n",
    "plt.title('0050 差分後的開盤價',loc='center')\n",
    "ts1.plot()\n",
    "plt.show() #一阶差分后的时序图"
   ]
  },
  {
   "cell_type": "code",
   "execution_count": 16,
   "id": "89dfe403",
   "metadata": {},
   "outputs": [
    {
     "name": "stderr",
     "output_type": "stream",
     "text": [
      "C:\\Users\\11065004\\anaconda3\\lib\\site-packages\\statsmodels\\tsa\\stattools.py:657: FutureWarning: The default number of lags is changing from 40 tomin(int(10 * np.log10(nobs)), nobs - 1) after 0.12is released. Set the number of lags to an integer to  silence this warning.\n",
      "  warnings.warn(\n",
      "C:\\Users\\11065004\\anaconda3\\lib\\site-packages\\statsmodels\\tsa\\stattools.py:667: FutureWarning: fft=True will become the default after the release of the 0.12 release of statsmodels. To suppress this warning, explicitly set fft=False.\n",
      "  warnings.warn(\n"
     ]
    },
    {
     "data": {
      "text/plain": [
       "array([0.96598041, 0.5163158 , 0.67190659, 0.77984421, 0.82881826,\n",
       "       0.90066329, 0.80127612, 0.87100255, 0.91607138, 0.85215522,\n",
       "       0.89098196])"
      ]
     },
     "execution_count": 16,
     "metadata": {},
     "output_type": "execute_result"
    }
   ],
   "source": [
    "from statsmodels.tsa import stattools #白噪声检验:Ljung-Box检验\n",
    "LjungBox=stattools.q_stat(stattools.acf(ts1)[1:12],len(ts1))[1] #显示第一个到第11个白噪声检验的p值\n",
    "LjungBox  #检验的p值大于0.05，因此不能拒绝原假设，差分后序列白噪声检验通过"
   ]
  },
  {
   "cell_type": "code",
   "execution_count": 17,
   "id": "ed3b0f2d",
   "metadata": {},
   "outputs": [],
   "source": [
    "# import warnings\n",
    "\n",
    "# warnings.filterwarnings(\"ignore\")"
   ]
  },
  {
   "cell_type": "code",
   "execution_count": 18,
   "id": "f0064936",
   "metadata": {},
   "outputs": [],
   "source": [
    "#模型識別與定價"
   ]
  },
  {
   "cell_type": "code",
   "execution_count": 19,
   "id": "2634f145",
   "metadata": {},
   "outputs": [
    {
     "name": "stderr",
     "output_type": "stream",
     "text": [
      "C:\\Users\\11065004\\anaconda3\\lib\\site-packages\\statsmodels\\tsa\\base\\tsa_model.py:581: ValueWarning: A date index has been provided, but it has no associated frequency information and so will be ignored when e.g. forecasting.\n",
      "  warnings.warn('A date index has been provided, but it has no'\n",
      "C:\\Users\\11065004\\anaconda3\\lib\\site-packages\\statsmodels\\tsa\\base\\tsa_model.py:581: ValueWarning: A date index has been provided, but it has no associated frequency information and so will be ignored when e.g. forecasting.\n",
      "  warnings.warn('A date index has been provided, but it has no'\n",
      "C:\\Users\\11065004\\anaconda3\\lib\\site-packages\\statsmodels\\tsa\\base\\tsa_model.py:581: ValueWarning: A date index has been provided, but it has no associated frequency information and so will be ignored when e.g. forecasting.\n",
      "  warnings.warn('A date index has been provided, but it has no'\n"
     ]
    },
    {
     "data": {
      "text/html": [
       "<table class=\"simpletable\">\n",
       "<caption>SARIMAX Results</caption>\n",
       "<tr>\n",
       "  <th>Dep. Variable:</th>         <td>Open</td>       <th>  No. Observations:  </th>    <td>842</td>   \n",
       "</tr>\n",
       "<tr>\n",
       "  <th>Model:</th>            <td>ARIMA(1, 1, 0)</td>  <th>  Log Likelihood     </th> <td>-1458.075</td>\n",
       "</tr>\n",
       "<tr>\n",
       "  <th>Date:</th>            <td>Thu, 12 Oct 2023</td> <th>  AIC                </th> <td>2920.150</td> \n",
       "</tr>\n",
       "<tr>\n",
       "  <th>Time:</th>                <td>18:47:12</td>     <th>  BIC                </th> <td>2929.619</td> \n",
       "</tr>\n",
       "<tr>\n",
       "  <th>Sample:</th>                  <td>0</td>        <th>  HQIC               </th> <td>2923.779</td> \n",
       "</tr>\n",
       "<tr>\n",
       "  <th></th>                      <td> - 842</td>      <th>                     </th>     <td> </td>    \n",
       "</tr>\n",
       "<tr>\n",
       "  <th>Covariance Type:</th>        <td>opg</td>       <th>                     </th>     <td> </td>    \n",
       "</tr>\n",
       "</table>\n",
       "<table class=\"simpletable\">\n",
       "<tr>\n",
       "     <td></td>       <th>coef</th>     <th>std err</th>      <th>z</th>      <th>P>|z|</th>  <th>[0.025</th>    <th>0.975]</th>  \n",
       "</tr>\n",
       "<tr>\n",
       "  <th>ar.L1</th>  <td>    0.0029</td> <td>    0.027</td> <td>    0.108</td> <td> 0.914</td> <td>   -0.050</td> <td>    0.055</td>\n",
       "</tr>\n",
       "<tr>\n",
       "  <th>sigma2</th> <td>    1.8768</td> <td>    0.066</td> <td>   28.249</td> <td> 0.000</td> <td>    1.747</td> <td>    2.007</td>\n",
       "</tr>\n",
       "</table>\n",
       "<table class=\"simpletable\">\n",
       "<tr>\n",
       "  <th>Ljung-Box (L1) (Q):</th>     <td>0.00</td> <th>  Jarque-Bera (JB):  </th> <td>133.01</td>\n",
       "</tr>\n",
       "<tr>\n",
       "  <th>Prob(Q):</th>                <td>0.96</td> <th>  Prob(JB):          </th>  <td>0.00</td> \n",
       "</tr>\n",
       "<tr>\n",
       "  <th>Heteroskedasticity (H):</th> <td>0.67</td> <th>  Skew:              </th>  <td>-0.23</td>\n",
       "</tr>\n",
       "<tr>\n",
       "  <th>Prob(H) (two-sided):</th>    <td>0.00</td> <th>  Kurtosis:          </th>  <td>4.89</td> \n",
       "</tr>\n",
       "</table><br/><br/>Warnings:<br/>[1] Covariance matrix calculated using the outer product of gradients (complex-step)."
      ],
      "text/plain": [
       "<class 'statsmodels.iolib.summary.Summary'>\n",
       "\"\"\"\n",
       "                               SARIMAX Results                                \n",
       "==============================================================================\n",
       "Dep. Variable:                   Open   No. Observations:                  842\n",
       "Model:                 ARIMA(1, 1, 0)   Log Likelihood               -1458.075\n",
       "Date:                Thu, 12 Oct 2023   AIC                           2920.150\n",
       "Time:                        18:47:12   BIC                           2929.619\n",
       "Sample:                             0   HQIC                          2923.779\n",
       "                                - 842                                         \n",
       "Covariance Type:                  opg                                         \n",
       "==============================================================================\n",
       "                 coef    std err          z      P>|z|      [0.025      0.975]\n",
       "------------------------------------------------------------------------------\n",
       "ar.L1          0.0029      0.027      0.108      0.914      -0.050       0.055\n",
       "sigma2         1.8768      0.066     28.249      0.000       1.747       2.007\n",
       "===================================================================================\n",
       "Ljung-Box (L1) (Q):                   0.00   Jarque-Bera (JB):               133.01\n",
       "Prob(Q):                              0.96   Prob(JB):                         0.00\n",
       "Heteroskedasticity (H):               0.67   Skew:                            -0.23\n",
       "Prob(H) (two-sided):                  0.00   Kurtosis:                         4.89\n",
       "===================================================================================\n",
       "\n",
       "Warnings:\n",
       "[1] Covariance matrix calculated using the outer product of gradients (complex-step).\n",
       "\"\"\""
      ]
     },
     "execution_count": 19,
     "metadata": {},
     "output_type": "execute_result"
    }
   ],
   "source": [
    "from statsmodels.tsa.arima.model import ARIMA #导入ARIMA模型\n",
    "model = ARIMA(ts,order=(1,1,0)) #白噪声检验通过，直接确定模型\n",
    "result = model.fit()\n",
    "result.summary() #提取模型信息"
   ]
  },
  {
   "cell_type": "code",
   "execution_count": 20,
   "id": "43eb0d1c",
   "metadata": {},
   "outputs": [
    {
     "data": {
      "text/plain": [
       "'\\n在进行时间序列分析时，通常会先使用 Ljung-Box Q 统计量检查时间序列是否存在自相关。如果存在自相关，就可以考虑使用模型对序列进行拟合。我们希望模型的残差是白噪声，此时可以对拟合的残差再使用 Ljung-Box Q 统计量进行一次检验，如果残差不存在自相关，说明模型能够很好地捕获序列中的相关关系。\\n'"
      ]
     },
     "execution_count": 20,
     "metadata": {},
     "output_type": "execute_result"
    }
   ],
   "source": [
    "\"\"\"\n",
    "在进行时间序列分析时，通常会先使用 Ljung-Box Q 统计量检查时间序列是否存在自相关。如果存在自相关，就可以考虑使用模型对序列进行拟合。我们希望模型的残差是白噪声，此时可以对拟合的残差再使用 Ljung-Box Q 统计量进行一次检验，如果残差不存在自相关，说明模型能够很好地捕获序列中的相关关系。\n",
    "\"\"\""
   ]
  },
  {
   "cell_type": "code",
   "execution_count": 21,
   "id": "b69f13ed",
   "metadata": {},
   "outputs": [
    {
     "data": {
      "image/png": "[encoded data removed]",
      "text/plain": [
       "<Figure size 432x288 with 1 Axes>"
      ]
     },
     "metadata": {
      "needs_background": "light"
     },
     "output_type": "display_data"
    }
   ],
   "source": [
    "from statsmodels.graphics.tsaplots import plot_acf, plot_pacf #导入自相关和偏自相关包\n",
    "plot_acf(ts1,use_vlines=True,lags=30) #自相关函数图，滞后30阶\n",
    "plt.show()"
   ]
  },
  {
   "cell_type": "code",
   "execution_count": 22,
   "id": "3a9c8b68",
   "metadata": {},
   "outputs": [
    {
     "data": {
      "image/png": "[encoded data removed]",
      "text/plain": [
       "<Figure size 432x288 with 1 Axes>"
      ]
     },
     "metadata": {
      "needs_background": "light"
     },
     "output_type": "display_data"
    }
   ],
   "source": [
    "plot_pacf(ts1,use_vlines=True,lags=30) #偏自相关函数图\n",
    "plt.show()"
   ]
  },
  {
   "cell_type": "code",
   "execution_count": 23,
   "id": "2e7c3369",
   "metadata": {
    "scrolled": true
   },
   "outputs": [
    {
     "name": "stderr",
     "output_type": "stream",
     "text": [
      "C:\\Users\\11065004\\anaconda3\\lib\\site-packages\\statsmodels\\tsa\\arima_model.py:472: FutureWarning: \n",
      "statsmodels.tsa.arima_model.ARMA and statsmodels.tsa.arima_model.ARIMA have\n",
      "been deprecated in favor of statsmodels.tsa.arima.model.ARIMA (note the .\n",
      "between arima and model) and\n",
      "statsmodels.tsa.SARIMAX. These will be removed after the 0.12 release.\n",
      "\n",
      "statsmodels.tsa.arima.model.ARIMA makes use of the statespace framework and\n",
      "is both well tested and maintained.\n",
      "\n",
      "To silence this warning and continue using ARMA and ARIMA until they are\n",
      "removed, use:\n",
      "\n",
      "import warnings\n",
      "warnings.filterwarnings('ignore', 'statsmodels.tsa.arima_model.ARMA',\n",
      "                        FutureWarning)\n",
      "warnings.filterwarnings('ignore', 'statsmodels.tsa.arima_model.ARIMA',\n",
      "                        FutureWarning)\n",
      "\n",
      "  warnings.warn(ARIMA_DEPRECATION_WARN, FutureWarning)\n",
      "C:\\Users\\11065004\\anaconda3\\lib\\site-packages\\statsmodels\\tsa\\tsatools.py:701: RuntimeWarning: overflow encountered in exp\n",
      "  newparams = ((1-np.exp(-params))/(1+np.exp(-params))).copy()\n",
      "C:\\Users\\11065004\\anaconda3\\lib\\site-packages\\statsmodels\\tsa\\tsatools.py:701: RuntimeWarning: invalid value encountered in true_divide\n",
      "  newparams = ((1-np.exp(-params))/(1+np.exp(-params))).copy()\n",
      "C:\\Users\\11065004\\anaconda3\\lib\\site-packages\\statsmodels\\tsa\\tsatools.py:702: RuntimeWarning: overflow encountered in exp\n",
      "  tmp = ((1-np.exp(-params))/(1+np.exp(-params))).copy()\n",
      "C:\\Users\\11065004\\anaconda3\\lib\\site-packages\\statsmodels\\tsa\\tsatools.py:702: RuntimeWarning: invalid value encountered in true_divide\n",
      "  tmp = ((1-np.exp(-params))/(1+np.exp(-params))).copy()\n",
      "C:\\Users\\11065004\\anaconda3\\lib\\site-packages\\statsmodels\\base\\model.py:547: HessianInversionWarning: Inverting hessian failed, no bse or cov_params available\n",
      "  warnings.warn('Inverting hessian failed, no bse or cov_params '\n",
      "C:\\Users\\11065004\\anaconda3\\lib\\site-packages\\statsmodels\\base\\model.py:547: HessianInversionWarning: Inverting hessian failed, no bse or cov_params available\n",
      "  warnings.warn('Inverting hessian failed, no bse or cov_params '\n",
      "C:\\Users\\11065004\\anaconda3\\lib\\site-packages\\statsmodels\\base\\model.py:547: HessianInversionWarning: Inverting hessian failed, no bse or cov_params available\n",
      "  warnings.warn('Inverting hessian failed, no bse or cov_params '\n",
      "C:\\Users\\11065004\\anaconda3\\lib\\site-packages\\statsmodels\\base\\model.py:547: HessianInversionWarning: Inverting hessian failed, no bse or cov_params available\n",
      "  warnings.warn('Inverting hessian failed, no bse or cov_params '\n",
      "C:\\Users\\11065004\\anaconda3\\lib\\site-packages\\statsmodels\\base\\model.py:547: HessianInversionWarning: Inverting hessian failed, no bse or cov_params available\n",
      "  warnings.warn('Inverting hessian failed, no bse or cov_params '\n",
      "C:\\Users\\11065004\\anaconda3\\lib\\site-packages\\statsmodels\\base\\model.py:566: ConvergenceWarning: Maximum Likelihood optimization failed to converge. Check mle_retvals\n",
      "  warnings.warn(\"Maximum Likelihood optimization failed to \"\n",
      "C:\\Users\\11065004\\anaconda3\\lib\\site-packages\\statsmodels\\base\\model.py:566: ConvergenceWarning: Maximum Likelihood optimization failed to converge. Check mle_retvals\n",
      "  warnings.warn(\"Maximum Likelihood optimization failed to \"\n",
      "C:\\Users\\11065004\\anaconda3\\lib\\site-packages\\statsmodels\\base\\model.py:566: ConvergenceWarning: Maximum Likelihood optimization failed to converge. Check mle_retvals\n",
      "  warnings.warn(\"Maximum Likelihood optimization failed to \"\n",
      "C:\\Users\\11065004\\anaconda3\\lib\\site-packages\\statsmodels\\base\\model.py:547: HessianInversionWarning: Inverting hessian failed, no bse or cov_params available\n",
      "  warnings.warn('Inverting hessian failed, no bse or cov_params '\n",
      "C:\\Users\\11065004\\anaconda3\\lib\\site-packages\\statsmodels\\tsa\\tsatools.py:728: RuntimeWarning: invalid value encountered in log\n",
      "  invmacoefs = -np.log((1-macoefs)/(1+macoefs))\n",
      "C:\\Users\\11065004\\anaconda3\\lib\\site-packages\\statsmodels\\base\\model.py:547: HessianInversionWarning: Inverting hessian failed, no bse or cov_params available\n",
      "  warnings.warn('Inverting hessian failed, no bse or cov_params '\n",
      "C:\\Users\\11065004\\anaconda3\\lib\\site-packages\\statsmodels\\base\\model.py:547: HessianInversionWarning: Inverting hessian failed, no bse or cov_params available\n",
      "  warnings.warn('Inverting hessian failed, no bse or cov_params '\n",
      "C:\\Users\\11065004\\anaconda3\\lib\\site-packages\\statsmodels\\base\\model.py:547: HessianInversionWarning: Inverting hessian failed, no bse or cov_params available\n",
      "  warnings.warn('Inverting hessian failed, no bse or cov_params '\n",
      "C:\\Users\\11065004\\anaconda3\\lib\\site-packages\\statsmodels\\base\\model.py:547: HessianInversionWarning: Inverting hessian failed, no bse or cov_params available\n",
      "  warnings.warn('Inverting hessian failed, no bse or cov_params '\n",
      "C:\\Users\\11065004\\anaconda3\\lib\\site-packages\\statsmodels\\base\\model.py:547: HessianInversionWarning: Inverting hessian failed, no bse or cov_params available\n",
      "  warnings.warn('Inverting hessian failed, no bse or cov_params '\n",
      "C:\\Users\\11065004\\anaconda3\\lib\\site-packages\\statsmodels\\base\\model.py:566: ConvergenceWarning: Maximum Likelihood optimization failed to converge. Check mle_retvals\n",
      "  warnings.warn(\"Maximum Likelihood optimization failed to \"\n",
      "C:\\Users\\11065004\\anaconda3\\lib\\site-packages\\statsmodels\\base\\model.py:547: HessianInversionWarning: Inverting hessian failed, no bse or cov_params available\n",
      "  warnings.warn('Inverting hessian failed, no bse or cov_params '\n",
      "C:\\Users\\11065004\\anaconda3\\lib\\site-packages\\statsmodels\\base\\model.py:547: HessianInversionWarning: Inverting hessian failed, no bse or cov_params available\n",
      "  warnings.warn('Inverting hessian failed, no bse or cov_params '\n",
      "C:\\Users\\11065004\\anaconda3\\lib\\site-packages\\statsmodels\\base\\model.py:547: HessianInversionWarning: Inverting hessian failed, no bse or cov_params available\n",
      "  warnings.warn('Inverting hessian failed, no bse or cov_params '\n",
      "C:\\Users\\11065004\\anaconda3\\lib\\site-packages\\statsmodels\\base\\model.py:566: ConvergenceWarning: Maximum Likelihood optimization failed to converge. Check mle_retvals\n",
      "  warnings.warn(\"Maximum Likelihood optimization failed to \"\n",
      "C:\\Users\\11065004\\anaconda3\\lib\\site-packages\\statsmodels\\base\\model.py:547: HessianInversionWarning: Inverting hessian failed, no bse or cov_params available\n",
      "  warnings.warn('Inverting hessian failed, no bse or cov_params '\n",
      "C:\\Users\\11065004\\anaconda3\\lib\\site-packages\\statsmodels\\base\\model.py:547: HessianInversionWarning: Inverting hessian failed, no bse or cov_params available\n",
      "  warnings.warn('Inverting hessian failed, no bse or cov_params '\n",
      "C:\\Users\\11065004\\anaconda3\\lib\\site-packages\\statsmodels\\base\\model.py:547: HessianInversionWarning: Inverting hessian failed, no bse or cov_params available\n",
      "  warnings.warn('Inverting hessian failed, no bse or cov_params '\n",
      "C:\\Users\\11065004\\anaconda3\\lib\\site-packages\\statsmodels\\base\\model.py:566: ConvergenceWarning: Maximum Likelihood optimization failed to converge. Check mle_retvals\n",
      "  warnings.warn(\"Maximum Likelihood optimization failed to \"\n"
     ]
    },
    {
     "name": "stdout",
     "output_type": "stream",
     "text": [
      "AIC (4, 2)\n"
     ]
    },
    {
     "name": "stderr",
     "output_type": "stream",
     "text": [
      "C:\\Users\\11065004\\anaconda3\\lib\\site-packages\\statsmodels\\base\\model.py:547: HessianInversionWarning: Inverting hessian failed, no bse or cov_params available\n",
      "  warnings.warn('Inverting hessian failed, no bse or cov_params '\n",
      "C:\\Users\\11065004\\anaconda3\\lib\\site-packages\\statsmodels\\base\\model.py:566: ConvergenceWarning: Maximum Likelihood optimization failed to converge. Check mle_retvals\n",
      "  warnings.warn(\"Maximum Likelihood optimization failed to \"\n"
     ]
    }
   ],
   "source": [
    "train_results = sm.tsa.arma_order_select_ic(ts1, ic=['aic', 'bic'], trend='nc', max_ar=8, max_ma=8)\n",
    "print('AIC', train_results.aic_min_order) #建立AIC值最小的模型\n",
    "# print('BIC', train_results.bic_min_order)"
   ]
  },
  {
   "cell_type": "code",
   "execution_count": 24,
   "id": "a5d9d72f",
   "metadata": {},
   "outputs": [
    {
     "name": "stderr",
     "output_type": "stream",
     "text": [
      "C:\\Users\\11065004\\anaconda3\\lib\\site-packages\\statsmodels\\tsa\\base\\tsa_model.py:581: ValueWarning: A date index has been provided, but it has no associated frequency information and so will be ignored when e.g. forecasting.\n",
      "  warnings.warn('A date index has been provided, but it has no'\n",
      "C:\\Users\\11065004\\anaconda3\\lib\\site-packages\\statsmodels\\tsa\\base\\tsa_model.py:581: ValueWarning: A date index has been provided, but it has no associated frequency information and so will be ignored when e.g. forecasting.\n",
      "  warnings.warn('A date index has been provided, but it has no'\n",
      "C:\\Users\\11065004\\anaconda3\\lib\\site-packages\\statsmodels\\tsa\\base\\tsa_model.py:581: ValueWarning: A date index has been provided, but it has no associated frequency information and so will be ignored when e.g. forecasting.\n",
      "  warnings.warn('A date index has been provided, but it has no'\n",
      "C:\\Users\\11065004\\anaconda3\\lib\\site-packages\\statsmodels\\base\\model.py:566: ConvergenceWarning: Maximum Likelihood optimization failed to converge. Check mle_retvals\n",
      "  warnings.warn(\"Maximum Likelihood optimization failed to \"\n"
     ]
    },
    {
     "data": {
      "text/html": [
       "<table class=\"simpletable\">\n",
       "<caption>SARIMAX Results</caption>\n",
       "<tr>\n",
       "  <th>Dep. Variable:</th>         <td>Open</td>       <th>  No. Observations:  </th>    <td>842</td>   \n",
       "</tr>\n",
       "<tr>\n",
       "  <th>Model:</th>            <td>ARIMA(2, 1, 2)</td>  <th>  Log Likelihood     </th> <td>-1455.756</td>\n",
       "</tr>\n",
       "<tr>\n",
       "  <th>Date:</th>            <td>Thu, 12 Oct 2023</td> <th>  AIC                </th> <td>2921.511</td> \n",
       "</tr>\n",
       "<tr>\n",
       "  <th>Time:</th>                <td>18:54:31</td>     <th>  BIC                </th> <td>2945.184</td> \n",
       "</tr>\n",
       "<tr>\n",
       "  <th>Sample:</th>                  <td>0</td>        <th>  HQIC               </th> <td>2930.584</td> \n",
       "</tr>\n",
       "<tr>\n",
       "  <th></th>                      <td> - 842</td>      <th>                     </th>     <td> </td>    \n",
       "</tr>\n",
       "<tr>\n",
       "  <th>Covariance Type:</th>        <td>opg</td>       <th>                     </th>     <td> </td>    \n",
       "</tr>\n",
       "</table>\n",
       "<table class=\"simpletable\">\n",
       "<tr>\n",
       "     <td></td>       <th>coef</th>     <th>std err</th>      <th>z</th>      <th>P>|z|</th>  <th>[0.025</th>    <th>0.975]</th>  \n",
       "</tr>\n",
       "<tr>\n",
       "  <th>ar.L1</th>  <td>    0.6617</td> <td>    0.014</td> <td>   47.374</td> <td> 0.000</td> <td>    0.634</td> <td>    0.689</td>\n",
       "</tr>\n",
       "<tr>\n",
       "  <th>ar.L2</th>  <td>   -0.9816</td> <td>    0.014</td> <td>  -68.328</td> <td> 0.000</td> <td>   -1.010</td> <td>   -0.953</td>\n",
       "</tr>\n",
       "<tr>\n",
       "  <th>ma.L1</th>  <td>   -0.6574</td> <td>    0.010</td> <td>  -65.832</td> <td> 0.000</td> <td>   -0.677</td> <td>   -0.638</td>\n",
       "</tr>\n",
       "<tr>\n",
       "  <th>ma.L2</th>  <td>    0.9933</td> <td>    0.013</td> <td>   79.404</td> <td> 0.000</td> <td>    0.969</td> <td>    1.018</td>\n",
       "</tr>\n",
       "<tr>\n",
       "  <th>sigma2</th> <td>    1.8414</td> <td>    0.066</td> <td>   27.936</td> <td> 0.000</td> <td>    1.712</td> <td>    1.971</td>\n",
       "</tr>\n",
       "</table>\n",
       "<table class=\"simpletable\">\n",
       "<tr>\n",
       "  <th>Ljung-Box (L1) (Q):</th>     <td>0.02</td> <th>  Jarque-Bera (JB):  </th> <td>121.45</td>\n",
       "</tr>\n",
       "<tr>\n",
       "  <th>Prob(Q):</th>                <td>0.89</td> <th>  Prob(JB):          </th>  <td>0.00</td> \n",
       "</tr>\n",
       "<tr>\n",
       "  <th>Heteroskedasticity (H):</th> <td>0.67</td> <th>  Skew:              </th>  <td>-0.23</td>\n",
       "</tr>\n",
       "<tr>\n",
       "  <th>Prob(H) (two-sided):</th>    <td>0.00</td> <th>  Kurtosis:          </th>  <td>4.81</td> \n",
       "</tr>\n",
       "</table><br/><br/>Warnings:<br/>[1] Covariance matrix calculated using the outer product of gradients (complex-step)."
      ],
      "text/plain": [
       "<class 'statsmodels.iolib.summary.Summary'>\n",
       "\"\"\"\n",
       "                               SARIMAX Results                                \n",
       "==============================================================================\n",
       "Dep. Variable:                   Open   No. Observations:                  842\n",
       "Model:                 ARIMA(2, 1, 2)   Log Likelihood               -1455.756\n",
       "Date:                Thu, 12 Oct 2023   AIC                           2921.511\n",
       "Time:                        18:54:31   BIC                           2945.184\n",
       "Sample:                             0   HQIC                          2930.584\n",
       "                                - 842                                         \n",
       "Covariance Type:                  opg                                         \n",
       "==============================================================================\n",
       "                 coef    std err          z      P>|z|      [0.025      0.975]\n",
       "------------------------------------------------------------------------------\n",
       "ar.L1          0.6617      0.014     47.374      0.000       0.634       0.689\n",
       "ar.L2         -0.9816      0.014    -68.328      0.000      -1.010      -0.953\n",
       "ma.L1         -0.6574      0.010    -65.832      0.000      -0.677      -0.638\n",
       "ma.L2          0.9933      0.013     79.404      0.000       0.969       1.018\n",
       "sigma2         1.8414      0.066     27.936      0.000       1.712       1.971\n",
       "===================================================================================\n",
       "Ljung-Box (L1) (Q):                   0.02   Jarque-Bera (JB):               121.45\n",
       "Prob(Q):                              0.89   Prob(JB):                         0.00\n",
       "Heteroskedasticity (H):               0.67   Skew:                            -0.23\n",
       "Prob(H) (two-sided):                  0.00   Kurtosis:                         4.81\n",
       "===================================================================================\n",
       "\n",
       "Warnings:\n",
       "[1] Covariance matrix calculated using the outer product of gradients (complex-step).\n",
       "\"\"\""
      ]
     },
     "execution_count": 24,
     "metadata": {},
     "output_type": "execute_result"
    }
   ],
   "source": [
    "model = ARIMA(ts,order=(2,1,2)).fit()\n",
    "model.summary() #提取模型系数等信息，保留三位小数；summary2保留四位小数"
   ]
  },
  {
   "cell_type": "code",
   "execution_count": 25,
   "id": "6a2f5e6d",
   "metadata": {},
   "outputs": [],
   "source": [
    "#print(model.summary().tables[1])"
   ]
  },
  {
   "cell_type": "code",
   "execution_count": 26,
   "id": "598c6872",
   "metadata": {},
   "outputs": [
    {
     "data": {
      "text/html": [
       "<div>\n",
       "<style scoped>\n",
       "    .dataframe tbody tr th:only-of-type {\n",
       "        vertical-align: middle;\n",
       "    }\n",
       "\n",
       "    .dataframe tbody tr th {\n",
       "        vertical-align: top;\n",
       "    }\n",
       "\n",
       "    .dataframe thead th {\n",
       "        text-align: right;\n",
       "    }\n",
       "</style>\n",
       "<table border=\"1\" class=\"dataframe\">\n",
       "  <thead>\n",
       "    <tr style=\"text-align: right;\">\n",
       "      <th></th>\n",
       "      <th>0</th>\n",
       "      <th>1</th>\n",
       "    </tr>\n",
       "  </thead>\n",
       "  <tbody>\n",
       "    <tr>\n",
       "      <th>ar.L1</th>\n",
       "      <td>0.634301</td>\n",
       "      <td>0.689051</td>\n",
       "    </tr>\n",
       "    <tr>\n",
       "      <th>ar.L2</th>\n",
       "      <td>-1.009772</td>\n",
       "      <td>-0.953457</td>\n",
       "    </tr>\n",
       "    <tr>\n",
       "      <th>ma.L1</th>\n",
       "      <td>-0.677013</td>\n",
       "      <td>-0.637866</td>\n",
       "    </tr>\n",
       "    <tr>\n",
       "      <th>ma.L2</th>\n",
       "      <td>0.968797</td>\n",
       "      <td>1.017834</td>\n",
       "    </tr>\n",
       "    <tr>\n",
       "      <th>sigma2</th>\n",
       "      <td>1.712244</td>\n",
       "      <td>1.970628</td>\n",
       "    </tr>\n",
       "  </tbody>\n",
       "</table>\n",
       "</div>"
      ],
      "text/plain": [
       "               0         1\n",
       "ar.L1   0.634301  0.689051\n",
       "ar.L2  -1.009772 -0.953457\n",
       "ma.L1  -0.677013 -0.637866\n",
       "ma.L2   0.968797  1.017834\n",
       "sigma2  1.712244  1.970628"
      ]
     },
     "execution_count": 26,
     "metadata": {},
     "output_type": "execute_result"
    }
   ],
   "source": [
    "model.conf_int() #系数显著性检验"
   ]
  },
  {
   "cell_type": "code",
   "execution_count": 27,
   "id": "fbe3c5f9",
   "metadata": {},
   "outputs": [],
   "source": [
    "sigma2 = model.conf_int().loc[\"sigma2\"]"
   ]
  },
  {
   "cell_type": "code",
   "execution_count": 28,
   "id": "aa904a9b",
   "metadata": {},
   "outputs": [
    {
     "data": {
      "text/plain": [
       "Date\n",
       "2020-05-05    1.099999\n",
       "2020-05-06   -0.206782\n",
       "2020-05-07    0.190212\n",
       "2020-05-08    1.100263\n",
       "2020-05-11    0.401907\n",
       "                ...   \n",
       "2023-10-04   -1.906273\n",
       "2023-10-05    0.299287\n",
       "2023-10-06    1.475774\n",
       "2023-10-11    2.141082\n",
       "2023-10-12    0.526474\n",
       "Length: 841, dtype: float64"
      ]
     },
     "execution_count": 28,
     "metadata": {},
     "output_type": "execute_result"
    }
   ],
   "source": [
    "model.resid.iloc[1:]"
   ]
  },
  {
   "cell_type": "code",
   "execution_count": 29,
   "id": "ce10c070",
   "metadata": {},
   "outputs": [
    {
     "data": {
      "text/plain": [
       "Text(0.5, 1.0, '标准化残差序列图')"
      ]
     },
     "execution_count": 29,
     "metadata": {},
     "output_type": "execute_result"
    },
    {
     "data": {
      "image/png": "[encoded data removed]",
      "text/plain": [
       "<Figure size 432x288 with 1 Axes>"
      ]
     },
     "metadata": {
      "needs_background": "light"
     },
     "output_type": "display_data"
    }
   ],
   "source": [
    "import math\n",
    "stdresid=model.resid.iloc[1:]/math.sqrt(1.712244) #标准化残差\n",
    "plt.rcParams['font.sans-serif'] = ['SimSun'] #字体为黑体\n",
    "plt.rcParams['axes.unicode_minus'] = False #正常显示负号\n",
    "plt.plot(stdresid) #标准化残差序列图\n",
    "plt.xticks(rotation=45) #坐标角度旋转\n",
    "plt.xlabel('日期') #横、纵坐标以及标题命名\n",
    "plt.ylabel('标准化残差')\n",
    "plt.title('标准化残差序列图',loc='center')"
   ]
  },
  {
   "cell_type": "code",
   "execution_count": 30,
   "id": "ae71db1e",
   "metadata": {},
   "outputs": [
    {
     "data": {
      "image/png": "[encoded data removed]",
      "text/plain": [
       "<Figure size 432x288 with 1 Axes>"
      ]
     },
     "metadata": {
      "needs_background": "light"
     },
     "output_type": "display_data"
    }
   ],
   "source": [
    "plot_acf(stdresid.iloc[1:],lags=30) \n",
    "plt.show()"
   ]
  },
  {
   "cell_type": "code",
   "execution_count": 31,
   "id": "9585cde0",
   "metadata": {},
   "outputs": [
    {
     "name": "stderr",
     "output_type": "stream",
     "text": [
      "C:\\Users\\11065004\\anaconda3\\lib\\site-packages\\statsmodels\\tsa\\stattools.py:657: FutureWarning: The default number of lags is changing from 40 tomin(int(10 * np.log10(nobs)), nobs - 1) after 0.12is released. Set the number of lags to an integer to  silence this warning.\n",
      "  warnings.warn(\n",
      "C:\\Users\\11065004\\anaconda3\\lib\\site-packages\\statsmodels\\tsa\\stattools.py:667: FutureWarning: fft=True will become the default after the release of the 0.12 release of statsmodels. To suppress this warning, explicitly set fft=False.\n",
      "  warnings.warn(\n"
     ]
    },
    {
     "data": {
      "text/plain": [
       "0.9673043370152311"
      ]
     },
     "execution_count": 31,
     "metadata": {},
     "output_type": "execute_result"
    }
   ],
   "source": [
    "from statsmodels.tsa import stattools #残差序列的白噪声检验\n",
    "LjungBox=stattools.q_stat(stattools.acf(stdresid)[1:13],len(stdresid))\n",
    "LjungBox[1][-1] #LjungBox检验的最后一个P值，大于0.05，通过白噪声检验"
   ]
  },
  {
   "cell_type": "code",
   "execution_count": 32,
   "id": "4d2b1a10",
   "metadata": {},
   "outputs": [
    {
     "name": "stderr",
     "output_type": "stream",
     "text": [
      "C:\\Users\\11065004\\anaconda3\\lib\\site-packages\\statsmodels\\tsa\\base\\tsa_model.py:376: ValueWarning: No supported index is available. Prediction results will be given with an integer index beginning at `start`.\n",
      "  warnings.warn('No supported index is available.'\n"
     ]
    },
    {
     "data": {
      "text/plain": [
       "842    126.616231\n",
       "843    126.627118\n",
       "Name: predicted_mean, dtype: float64"
      ]
     },
     "execution_count": 32,
     "metadata": {},
     "output_type": "execute_result"
    }
   ],
   "source": [
    "a=model.forecast(2)\n",
    "a"
   ]
  },
  {
   "cell_type": "code",
   "execution_count": 33,
   "id": "20e13eb7",
   "metadata": {},
   "outputs": [
    {
     "data": {
      "text/plain": [
       "Date\n",
       "2020-05-04     82.4\n",
       "2020-05-05     83.5\n",
       "2020-05-06     83.3\n",
       "2020-05-07     83.5\n",
       "2020-05-08     84.6\n",
       "              ...  \n",
       "2023-10-04    122.1\n",
       "2023-10-05    122.4\n",
       "2023-10-06    123.8\n",
       "2023-10-11    125.9\n",
       "2023-10-12    126.5\n",
       "Name: Open, Length: 842, dtype: float64"
      ]
     },
     "execution_count": 33,
     "metadata": {},
     "output_type": "execute_result"
    }
   ],
   "source": [
    "ts.loc['2020-05-04':]"
   ]
  },
  {
   "cell_type": "code",
   "execution_count": 34,
   "id": "f4eedaf0",
   "metadata": {},
   "outputs": [],
   "source": [
    "from statsmodels.graphics.tsaplots import plot_predict"
   ]
  },
  {
   "cell_type": "code",
   "execution_count": 35,
   "id": "50327e18",
   "metadata": {},
   "outputs": [
    {
     "data": {
      "image/png": "[encoded data removed]",
      "text/plain": [
       "<Figure size 720x576 with 1 Axes>"
      ]
     },
     "metadata": {
      "needs_background": "light"
     },
     "output_type": "display_data"
    }
   ],
   "source": [
    "fig, ax = plt.subplots(figsize=(10, 8))\n",
    "ax = ts.loc['2020-05-04':].plot(ax=ax)\n",
    "plot_predict(model,'2020-05', '2023-09', ax=ax)\n",
    "plt.ylim(80,160)\n",
    "plt.show()"
   ]
  },
  {
   "cell_type": "code",
   "execution_count": 36,
   "id": "2fc4ac60",
   "metadata": {},
   "outputs": [],
   "source": [
    "#ARCH"
   ]
  },
  {
   "cell_type": "code",
   "execution_count": 37,
   "id": "0627fca8",
   "metadata": {},
   "outputs": [
    {
     "name": "stderr",
     "output_type": "stream",
     "text": [
      "C:\\Users\\11065004\\anaconda3\\lib\\site-packages\\statsmodels\\tsa\\stattools.py:657: FutureWarning: The default number of lags is changing from 40 tomin(int(10 * np.log10(nobs)), nobs - 1) after 0.12is released. Set the number of lags to an integer to  silence this warning.\n",
      "  warnings.warn(\n",
      "C:\\Users\\11065004\\anaconda3\\lib\\site-packages\\statsmodels\\tsa\\stattools.py:667: FutureWarning: fft=True will become the default after the release of the 0.12 release of statsmodels. To suppress this warning, explicitly set fft=False.\n",
      "  warnings.warn(\n"
     ]
    },
    {
     "data": {
      "text/plain": [
       "1.0"
      ]
     },
     "execution_count": 37,
     "metadata": {},
     "output_type": "execute_result"
    }
   ],
   "source": [
    "resid1=result.resid #提取残差\n",
    "LjungBox=stattools.q_stat(stattools.acf(resid1**2)[1:13],len(resid1)) #残差平方序列的白噪声检验\n",
    "LjungBox[1][-1] #拒绝原假设，则残差序列具有ARCH效应"
   ]
  },
  {
   "cell_type": "code",
   "execution_count": 38,
   "id": "3c489294",
   "metadata": {},
   "outputs": [],
   "source": [
    "from arch import arch_model"
   ]
  },
  {
   "cell_type": "code",
   "execution_count": 39,
   "id": "bc889196",
   "metadata": {},
   "outputs": [],
   "source": [
    "# pip install arch"
   ]
  },
  {
   "cell_type": "code",
   "execution_count": 40,
   "id": "30469199",
   "metadata": {},
   "outputs": [
    {
     "name": "stdout",
     "output_type": "stream",
     "text": [
      "Optimization terminated successfully    (Exit mode 0)\n",
      "            Current function value: 1456.7818477400347\n",
      "            Iterations: 12\n",
      "            Function evaluations: 67\n",
      "            Gradient evaluations: 12\n"
     ]
    }
   ],
   "source": [
    "am=arch_model(resid1) #默认模型为GARCH（1，1）\n",
    "model2=am.fit(update_freq=0) #估计参数"
   ]
  },
  {
   "cell_type": "code",
   "execution_count": 41,
   "id": "e6813b9a",
   "metadata": {},
   "outputs": [
    {
     "name": "stdout",
     "output_type": "stream",
     "text": [
      "                     Constant Mean - GARCH Model Results                      \n",
      "==============================================================================\n",
      "Dep. Variable:                   None   R-squared:                       0.000\n",
      "Mean Model:             Constant Mean   Adj. R-squared:                  0.000\n",
      "Vol Model:                      GARCH   Log-Likelihood:               -1456.78\n",
      "Distribution:                  Normal   AIC:                           2921.56\n",
      "Method:            Maximum Likelihood   BIC:                           2940.51\n",
      "                                        No. Observations:                  842\n",
      "Date:                Thu, Oct 12 2023   Df Residuals:                      841\n",
      "Time:                        18:54:33   Df Model:                            1\n",
      "                                 Mean Model                                \n",
      "===========================================================================\n",
      "                 coef    std err          t      P>|t|     95.0% Conf. Int.\n",
      "---------------------------------------------------------------------------\n",
      "mu             0.0288  4.394e-02      0.655      0.513 [-5.735e-02,  0.115]\n",
      "                            Volatility Model                            \n",
      "========================================================================\n",
      "                 coef    std err          t      P>|t|  95.0% Conf. Int.\n",
      "------------------------------------------------------------------------\n",
      "omega          0.5375      0.149      3.601  3.166e-04 [  0.245,  0.830]\n",
      "alpha[1]       0.2355  6.381e-02      3.691  2.231e-04 [  0.110,  0.361]\n",
      "beta[1]        0.4880  8.361e-02      5.836  5.338e-09 [  0.324,  0.652]\n",
      "========================================================================\n",
      "\n",
      "Covariance estimator: robust\n"
     ]
    }
   ],
   "source": [
    "print(model2.summary())"
   ]
  },
  {
   "cell_type": "code",
   "execution_count": null,
   "id": "bd4a8dde",
   "metadata": {},
   "outputs": [],
   "source": []
  }
 ],
 "metadata": {
  "kernelspec": {
   "display_name": "Python 3 (ipykernel)",
   "language": "python",
   "name": "python3"
  },
  "language_info": {
   "codemirror_mode": {
    "name": "ipython",
    "version": 3
   },
   "file_extension": ".py",
   "mimetype": "text/x-python",
   "name": "python",
   "nbconvert_exporter": "python",
   "pygments_lexer": "ipython3",
   "version": "3.9.7"
  }
 },
 "nbformat": 4,
 "nbformat_minor": 5
}
